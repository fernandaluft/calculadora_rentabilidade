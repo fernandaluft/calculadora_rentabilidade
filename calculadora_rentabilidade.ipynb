{
 "cells": [
  {
   "cell_type": "code",
   "execution_count": 14,
   "metadata": {},
   "outputs": [
    {
     "name": "stdout",
     "output_type": "stream",
     "text": [
      "Calculadora de Rentabilidade\n",
      "\n",
      "Qual tipo de investimento você gostaria de simular?\n",
      "\n",
      "1 - Pós-Fixado\n",
      "2 - Pré-Fixado\n",
      "3 - Atrelado à Inflação\n",
      "\n"
     ]
    }
   ],
   "source": [
    "print(\"Calculadora de Rentabilidade\")\n",
    "\n",
    "print('''\\nQual tipo de investimento você gostaria de simular?\n",
    "\n",
    "1 - Pós-Fixado\n",
    "2 - Pré-Fixado\n",
    "3 - Atrelado à Inflação\n",
    "''')"
   ]
  },
  {
   "cell_type": "code",
   "execution_count": 15,
   "metadata": {},
   "outputs": [],
   "source": [
    "tipo = input(\"Escolha uma das opções acima: \")"
   ]
  },
  {
   "cell_type": "code",
   "execution_count": 16,
   "metadata": {},
   "outputs": [],
   "source": [
    "def pos_fixado(montante, prazo, taxa_rentabilidade, taxa_di):\n",
    "    return montante * (1 + (taxa_rentabilidade * taxa_di)) ** (prazo/12)"
   ]
  },
  {
   "cell_type": "code",
   "execution_count": 17,
   "metadata": {},
   "outputs": [],
   "source": [
    "def pre_fixado(montante, prazo, taxa_rentabilidade):\n",
    "    return montante * (1 + taxa_rentabilidade) ** (prazo/12)"
   ]
  },
  {
   "cell_type": "code",
   "execution_count": 18,
   "metadata": {},
   "outputs": [],
   "source": [
    "def atrelado_inflacao(montante, prazo, inflacao,taxa_rentabilidade):\n",
    "    return montante * ((1 + taxa_rentabilidade) * (1 + inflacao)) ** (prazo/12)"
   ]
  },
  {
   "cell_type": "code",
   "execution_count": 19,
   "metadata": {},
   "outputs": [],
   "source": [
    "def imposto_calculo():\n",
    "    if prazo <= 6:\n",
    "        resultado_final = resultado - ((resultado - montante) * 0.225)\n",
    "        print(\"O valor a ser resgatado será de R$\", round(resultado_final, 2))\n",
    "    elif prazo > 6 and prazo <= 12:\n",
    "        resultado_final = resultado - ((resultado - montante) * 0.2)\n",
    "        print(\"O valor a ser resgatado será de R$\", round(resultado_final, 2))\n",
    "    elif prazo > 12 and prazo <= 24:\n",
    "        resultado_final = resultado - ((resultado - montante) * 0.175)\n",
    "        print(\"O valor a ser resgatado será de R$\", round(resultado_final, 2))\n",
    "    elif prazo > 24:\n",
    "        resultado_final = resultado - ((resultado - montante) * 0.15)\n",
    "        print(\"O valor a ser resgatado será de R$\", round(resultado_final, 2))\n",
    "    else:\n",
    "         print(\"Desconheço esse tipo de investimento :P\")"
   ]
  },
  {
   "cell_type": "code",
   "execution_count": 20,
   "metadata": {},
   "outputs": [],
   "source": [
    "def imposto():\n",
    "    print('''Agora vamos ver se o seu investimento está sujeito a IR:\n",
    "Seu investimento é uma LCA/LCI ou um CDB?''')\n",
    "    investimento = input()\n",
    "    if \"LCA\" in investimento or \"LCI\" in investimento:\n",
    "        print(\"Ótima escolha, seu investimento é isento de IR ;)\")\n",
    "    else:\n",
    "        imposto_calculo()"
   ]
  },
  {
   "cell_type": "code",
   "execution_count": 21,
   "metadata": {},
   "outputs": [
    {
     "name": "stdout",
     "output_type": "stream",
     "text": [
      "Qual o montante a ser investido?\n",
      "Qual o prazo do investimento em meses?\n",
      "Qual a taxa de rentabilidade?\n",
      "O valor a ser resgatado será:  120.0\n",
      "Agora vamos ver se o seu investimento está sujeito a IR:\n",
      "Seu investimento é uma LCA/LCI ou um CDB?\n",
      "Ótima escolha, seu investimento é isento de IR ;)\n"
     ]
    }
   ],
   "source": [
    "if tipo == '1':\n",
    "    print(\"Qual o montante a ser investido?\")\n",
    "    montante = int(input(\"Montante: \"))\n",
    "    print(\"Qual o prazo do investimento em meses?\")\n",
    "    prazo = int(input(\"Prazo: \"))\n",
    "    print(\"Qual a taxa de rentabilidade?\")\n",
    "    taxa_rentabilidade = float(input(\"Rentabilidade: \"))\n",
    "    print(\"Qual a taxa DI hoje?\")\n",
    "    taxa_di = float(input(\"Taxa DI: \"))\n",
    "    resultado = pos_fixado(montante, prazo, taxa_rentabilidade, taxa_di)\n",
    "    print(\"\\nO valor a ser resgatado será: \", round(resultado, 2))\n",
    "    imposto()\n",
    "\n",
    "elif tipo == '2':\n",
    "    print(\"Qual o montante a ser investido?\")\n",
    "    montante = int(input(\"Montante: \"))\n",
    "    print(\"Qual o prazo do investimento em meses?\")\n",
    "    prazo = int(input(\"Prazo: \"))\n",
    "    print(\"Qual a taxa de rentabilidade?\")\n",
    "    taxa_rentabilidade = float(input(\"Rentabilidade: \"))\n",
    "    resultado = pre_fixado(montante, prazo, taxa_rentabilidade)\n",
    "    print(\"O valor a ser resgatado será: \", round(resultado, 2))\n",
    "    imposto()\n",
    "\n",
    "elif tipo == '3':\n",
    "    print(\"Qual o montante a ser investido?\")\n",
    "    montante = int(input(\"Montante: \"))\n",
    "    print(\"Qual o prazo do investimento em meses?\")\n",
    "    prazo = int(input(\"Prazo: \"))\n",
    "    print(\"Qual a taxa de rentabilidade?\")\n",
    "    taxa_rentabilidade = float(input(\"Rentabilidade: \"))\n",
    "    print(\"Qual a inflação hoje?\")\n",
    "    inflacao = float(input(\"Inflação: \"))\n",
    "    resultado = atrelado_inflacao(montante, prazo, inflacao, taxa_rentabilidade)\n",
    "    print(\"O valor a ser resgatado será: \", round(resultado, 2))\n",
    "    imposto()\n",
    "\n",
    "else:\n",
    "    print(\"Você sabe o que está fazendo aqui?! :P\")\n"
   ]
  }
 ],
 "metadata": {
  "kernelspec": {
   "display_name": "Python 3",
   "language": "python",
   "name": "python3"
  },
  "language_info": {
   "codemirror_mode": {
    "name": "ipython",
    "version": 3
   },
   "file_extension": ".py",
   "mimetype": "text/x-python",
   "name": "python",
   "nbconvert_exporter": "python",
   "pygments_lexer": "ipython3",
   "version": "3.10.4 (main, Nov 29 2022, 20:00:25) [GCC 9.4.0]"
  },
  "orig_nbformat": 4,
  "vscode": {
   "interpreter": {
    "hash": "3ad933181bd8a04b432d3370b9dc3b0662ad032c4dfaa4e4f1596c548f763858"
   }
  }
 },
 "nbformat": 4,
 "nbformat_minor": 2
}
